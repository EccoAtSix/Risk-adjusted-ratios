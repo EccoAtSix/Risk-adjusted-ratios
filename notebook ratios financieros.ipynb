{
 "cells": [
  {
   "cell_type": "code",
   "execution_count": 26,
   "metadata": {},
   "outputs": [],
   "source": [
    "import numpy as np\n",
    "import matplotlib.pyplot as plt\n",
    "import seaborn as sns"
   ]
  },
  {
   "cell_type": "code",
   "execution_count": 49,
   "metadata": {},
   "outputs": [],
   "source": [
    "class risk_ratios:\n",
    "    def __init__(self,data,benchmark,weights):\n",
    "        self.benchmark=benchmark\n",
    "        self.data=data\n",
    "        self.weights=weights\n",
    "    def ratios(self,rf):\n",
    "        import numpy as np\n",
    "        import pandas as pd\n",
    "        returns_port=self.data.pct_change().dropna()\n",
    "        returns_bench=self.benchmark.pct_change().dropna()\n",
    "        mean_port=returns_port.mean()\n",
    "        mean_bench=returns_bench.mean()\n",
    "        desv_port=returns_port.std()\n",
    "        desv_bench=returns_bench.std()\n",
    "        mean2_port=np.array(mean_port)\n",
    "        desv2_port=np.array(desv_port)\n",
    "        weightss=np.array(self.weights)\n",
    "        expected_return=np.dot(np.transpose(weightss),mean2_port)\n",
    "        # Sharpe\n",
    "        sharpe=(mean_port-rf)/desv_port\n",
    "        # M2\n",
    "        m2=(sharpe*desv_bench[0])+rf\n",
    "        # beta\n",
    "        beta=[]\n",
    "        for t in self.data.columns:\n",
    "            cov=np.cov(returns_port[t],returns_bench.iloc[:,0])[0][1]\n",
    "            beta.append(cov/desv_bench[0]**2)\n",
    "        beta=pd.Series(beta)\n",
    "        beta.index=mean_port.index\n",
    "        # Treynor\n",
    "        treynor=(mean_port-rf)/beta\n",
    "        # Retorno CAPM\n",
    "        capm=rf+(beta*(mean_bench[0]-rf))\n",
    "        # Jensen Alfa\n",
    "        alfa=expected_return-capm\n",
    "        # Information Ratio\n",
    "        info_ratio=mean_bench/desv_bench\n",
    "        print(\"The information ratio is \"+str(info_ratio[0])+\".\")\n",
    "        return sharpe,m2,beta,treynor,capm,alfa"
   ]
  },
  {
   "cell_type": "code",
   "execution_count": 6,
   "metadata": {},
   "outputs": [
    {
     "data": {
      "text/html": [
       "<div>\n",
       "<style scoped>\n",
       "    .dataframe tbody tr th:only-of-type {\n",
       "        vertical-align: middle;\n",
       "    }\n",
       "\n",
       "    .dataframe tbody tr th {\n",
       "        vertical-align: top;\n",
       "    }\n",
       "\n",
       "    .dataframe thead th {\n",
       "        text-align: right;\n",
       "    }\n",
       "</style>\n",
       "<table border=\"1\" class=\"dataframe\">\n",
       "  <thead>\n",
       "    <tr style=\"text-align: right;\">\n",
       "      <th></th>\n",
       "      <th>AMERICAN EXPRESS CO</th>\n",
       "      <th>VERIZON COMMUNICATIONS INC</th>\n",
       "      <th>BOEING CO/THE</th>\n",
       "      <th>CATERPILLAR INC</th>\n",
       "      <th>JPMORGAN CHASE &amp; CO</th>\n",
       "      <th>COCA-COLA CO/THE</th>\n",
       "      <th>WALT DISNEY CO/THE</th>\n",
       "      <th>HP INC</th>\n",
       "      <th>JOHNSON &amp; JOHNSON</th>\n",
       "      <th>MCDONALD'S CORP</th>\n",
       "      <th>...</th>\n",
       "      <th>STARBUCKS CORP</th>\n",
       "      <th>STATE STREET CORP</th>\n",
       "      <th>DOMINO'S PIZZA INC</th>\n",
       "      <th>AMAZON.COM INC</th>\n",
       "      <th>NETFLIX INC</th>\n",
       "      <th>MASTERCARD INC - A</th>\n",
       "      <th>PEPSICO INC</th>\n",
       "      <th>UNITED AIRLINES HOLDINGS INC</th>\n",
       "      <th>DELTA AIR LINES INC</th>\n",
       "      <th>ACTIVISION BLIZZARD INC</th>\n",
       "    </tr>\n",
       "    <tr>\n",
       "      <th>Dates</th>\n",
       "      <th></th>\n",
       "      <th></th>\n",
       "      <th></th>\n",
       "      <th></th>\n",
       "      <th></th>\n",
       "      <th></th>\n",
       "      <th></th>\n",
       "      <th></th>\n",
       "      <th></th>\n",
       "      <th></th>\n",
       "      <th></th>\n",
       "      <th></th>\n",
       "      <th></th>\n",
       "      <th></th>\n",
       "      <th></th>\n",
       "      <th></th>\n",
       "      <th></th>\n",
       "      <th></th>\n",
       "      <th></th>\n",
       "      <th></th>\n",
       "      <th></th>\n",
       "    </tr>\n",
       "  </thead>\n",
       "  <tbody>\n",
       "    <tr>\n",
       "      <th>2010-01-01</th>\n",
       "      <td>40.5200</td>\n",
       "      <td>30.9563</td>\n",
       "      <td>54.13</td>\n",
       "      <td>56.990</td>\n",
       "      <td>41.6700</td>\n",
       "      <td>28.500</td>\n",
       "      <td>32.25</td>\n",
       "      <td>23.3858</td>\n",
       "      <td>64.41</td>\n",
       "      <td>62.44</td>\n",
       "      <td>...</td>\n",
       "      <td>11.530</td>\n",
       "      <td>43.5499</td>\n",
       "      <td>8.38</td>\n",
       "      <td>6.726</td>\n",
       "      <td>7.870</td>\n",
       "      <td>25.598</td>\n",
       "      <td>60.80</td>\n",
       "      <td>12.91</td>\n",
       "      <td>11.38</td>\n",
       "      <td>11.110</td>\n",
       "    </tr>\n",
       "    <tr>\n",
       "      <th>2010-01-08</th>\n",
       "      <td>42.1299</td>\n",
       "      <td>30.1084</td>\n",
       "      <td>61.60</td>\n",
       "      <td>60.340</td>\n",
       "      <td>44.7321</td>\n",
       "      <td>27.575</td>\n",
       "      <td>31.88</td>\n",
       "      <td>23.8762</td>\n",
       "      <td>64.21</td>\n",
       "      <td>61.84</td>\n",
       "      <td>...</td>\n",
       "      <td>11.640</td>\n",
       "      <td>45.5204</td>\n",
       "      <td>9.37</td>\n",
       "      <td>6.676</td>\n",
       "      <td>7.614</td>\n",
       "      <td>25.413</td>\n",
       "      <td>60.77</td>\n",
       "      <td>13.33</td>\n",
       "      <td>12.47</td>\n",
       "      <td>10.900</td>\n",
       "    </tr>\n",
       "    <tr>\n",
       "      <th>2010-01-15</th>\n",
       "      <td>42.5718</td>\n",
       "      <td>28.9988</td>\n",
       "      <td>60.82</td>\n",
       "      <td>60.540</td>\n",
       "      <td>43.7310</td>\n",
       "      <td>28.145</td>\n",
       "      <td>30.60</td>\n",
       "      <td>23.8217</td>\n",
       "      <td>64.56</td>\n",
       "      <td>62.28</td>\n",
       "      <td>...</td>\n",
       "      <td>11.635</td>\n",
       "      <td>42.6797</td>\n",
       "      <td>11.33</td>\n",
       "      <td>6.357</td>\n",
       "      <td>7.279</td>\n",
       "      <td>26.280</td>\n",
       "      <td>62.29</td>\n",
       "      <td>13.25</td>\n",
       "      <td>12.74</td>\n",
       "      <td>10.890</td>\n",
       "    </tr>\n",
       "    <tr>\n",
       "      <th>2010-01-22</th>\n",
       "      <td>38.7555</td>\n",
       "      <td>28.7713</td>\n",
       "      <td>57.77</td>\n",
       "      <td>54.629</td>\n",
       "      <td>39.2057</td>\n",
       "      <td>27.120</td>\n",
       "      <td>29.98</td>\n",
       "      <td>22.3780</td>\n",
       "      <td>63.20</td>\n",
       "      <td>63.39</td>\n",
       "      <td>...</td>\n",
       "      <td>11.455</td>\n",
       "      <td>43.3699</td>\n",
       "      <td>11.07</td>\n",
       "      <td>6.072</td>\n",
       "      <td>7.270</td>\n",
       "      <td>25.196</td>\n",
       "      <td>60.39</td>\n",
       "      <td>13.21</td>\n",
       "      <td>13.29</td>\n",
       "      <td>10.365</td>\n",
       "    </tr>\n",
       "    <tr>\n",
       "      <th>2010-01-29</th>\n",
       "      <td>37.8215</td>\n",
       "      <td>27.8988</td>\n",
       "      <td>60.60</td>\n",
       "      <td>52.605</td>\n",
       "      <td>38.9854</td>\n",
       "      <td>27.125</td>\n",
       "      <td>29.55</td>\n",
       "      <td>21.3701</td>\n",
       "      <td>62.86</td>\n",
       "      <td>62.43</td>\n",
       "      <td>...</td>\n",
       "      <td>10.895</td>\n",
       "      <td>42.8898</td>\n",
       "      <td>11.30</td>\n",
       "      <td>6.271</td>\n",
       "      <td>8.893</td>\n",
       "      <td>25.005</td>\n",
       "      <td>59.62</td>\n",
       "      <td>12.23</td>\n",
       "      <td>12.23</td>\n",
       "      <td>10.160</td>\n",
       "    </tr>\n",
       "  </tbody>\n",
       "</table>\n",
       "<p>5 rows × 46 columns</p>\n",
       "</div>"
      ],
      "text/plain": [
       "            AMERICAN EXPRESS CO  VERIZON COMMUNICATIONS INC  BOEING CO/THE  \\\n",
       "Dates                                                                        \n",
       "2010-01-01              40.5200                     30.9563          54.13   \n",
       "2010-01-08              42.1299                     30.1084          61.60   \n",
       "2010-01-15              42.5718                     28.9988          60.82   \n",
       "2010-01-22              38.7555                     28.7713          57.77   \n",
       "2010-01-29              37.8215                     27.8988          60.60   \n",
       "\n",
       "            CATERPILLAR INC  JPMORGAN CHASE & CO  COCA-COLA CO/THE  \\\n",
       "Dates                                                                \n",
       "2010-01-01           56.990              41.6700            28.500   \n",
       "2010-01-08           60.340              44.7321            27.575   \n",
       "2010-01-15           60.540              43.7310            28.145   \n",
       "2010-01-22           54.629              39.2057            27.120   \n",
       "2010-01-29           52.605              38.9854            27.125   \n",
       "\n",
       "            WALT DISNEY CO/THE   HP INC  JOHNSON & JOHNSON  MCDONALD'S CORP  \\\n",
       "Dates                                                                         \n",
       "2010-01-01               32.25  23.3858              64.41            62.44   \n",
       "2010-01-08               31.88  23.8762              64.21            61.84   \n",
       "2010-01-15               30.60  23.8217              64.56            62.28   \n",
       "2010-01-22               29.98  22.3780              63.20            63.39   \n",
       "2010-01-29               29.55  21.3701              62.86            62.43   \n",
       "\n",
       "            ...  STARBUCKS CORP  STATE STREET CORP  DOMINO'S PIZZA INC  \\\n",
       "Dates       ...                                                          \n",
       "2010-01-01  ...          11.530            43.5499                8.38   \n",
       "2010-01-08  ...          11.640            45.5204                9.37   \n",
       "2010-01-15  ...          11.635            42.6797               11.33   \n",
       "2010-01-22  ...          11.455            43.3699               11.07   \n",
       "2010-01-29  ...          10.895            42.8898               11.30   \n",
       "\n",
       "            AMAZON.COM INC  NETFLIX INC  MASTERCARD INC - A  PEPSICO INC  \\\n",
       "Dates                                                                      \n",
       "2010-01-01           6.726        7.870              25.598        60.80   \n",
       "2010-01-08           6.676        7.614              25.413        60.77   \n",
       "2010-01-15           6.357        7.279              26.280        62.29   \n",
       "2010-01-22           6.072        7.270              25.196        60.39   \n",
       "2010-01-29           6.271        8.893              25.005        59.62   \n",
       "\n",
       "            UNITED AIRLINES HOLDINGS INC  DELTA AIR LINES INC  \\\n",
       "Dates                                                           \n",
       "2010-01-01                         12.91                11.38   \n",
       "2010-01-08                         13.33                12.47   \n",
       "2010-01-15                         13.25                12.74   \n",
       "2010-01-22                         13.21                13.29   \n",
       "2010-01-29                         12.23                12.23   \n",
       "\n",
       "            ACTIVISION BLIZZARD INC  \n",
       "Dates                                \n",
       "2010-01-01                   11.110  \n",
       "2010-01-08                   10.900  \n",
       "2010-01-15                   10.890  \n",
       "2010-01-22                   10.365  \n",
       "2010-01-29                   10.160  \n",
       "\n",
       "[5 rows x 46 columns]"
      ]
     },
     "execution_count": 6,
     "metadata": {},
     "output_type": "execute_result"
    }
   ],
   "source": [
    "import pandas as pd\n",
    "equity=pd.read_excel(\"portafolioo.xlsx\",sheet_name=\"Hoja1\",index_col=0)\n",
    "benchmark=pd.read_excel(\"portafolioo.xlsx\",sheet_name=\"Hoja2\",index_col=0)\n",
    "weights=pd.read_excel(\"portafolioo.xlsx\",sheet_name=\"Hoja3\")\n",
    "equity.head()"
   ]
  },
  {
   "cell_type": "code",
   "execution_count": 7,
   "metadata": {},
   "outputs": [
    {
     "data": {
      "text/html": [
       "<div>\n",
       "<style scoped>\n",
       "    .dataframe tbody tr th:only-of-type {\n",
       "        vertical-align: middle;\n",
       "    }\n",
       "\n",
       "    .dataframe tbody tr th {\n",
       "        vertical-align: top;\n",
       "    }\n",
       "\n",
       "    .dataframe thead th {\n",
       "        text-align: right;\n",
       "    }\n",
       "</style>\n",
       "<table border=\"1\" class=\"dataframe\">\n",
       "  <thead>\n",
       "    <tr style=\"text-align: right;\">\n",
       "      <th></th>\n",
       "      <th>DOW JONES INDUS. AVG</th>\n",
       "    </tr>\n",
       "    <tr>\n",
       "      <th>Dates</th>\n",
       "      <th></th>\n",
       "    </tr>\n",
       "  </thead>\n",
       "  <tbody>\n",
       "    <tr>\n",
       "      <th>2010-01-01</th>\n",
       "      <td>10428.05</td>\n",
       "    </tr>\n",
       "    <tr>\n",
       "      <th>2010-01-08</th>\n",
       "      <td>10618.19</td>\n",
       "    </tr>\n",
       "    <tr>\n",
       "      <th>2010-01-15</th>\n",
       "      <td>10609.65</td>\n",
       "    </tr>\n",
       "    <tr>\n",
       "      <th>2010-01-22</th>\n",
       "      <td>10172.98</td>\n",
       "    </tr>\n",
       "    <tr>\n",
       "      <th>2010-01-29</th>\n",
       "      <td>10067.33</td>\n",
       "    </tr>\n",
       "  </tbody>\n",
       "</table>\n",
       "</div>"
      ],
      "text/plain": [
       "            DOW JONES INDUS. AVG\n",
       "Dates                           \n",
       "2010-01-01              10428.05\n",
       "2010-01-08              10618.19\n",
       "2010-01-15              10609.65\n",
       "2010-01-22              10172.98\n",
       "2010-01-29              10067.33"
      ]
     },
     "execution_count": 7,
     "metadata": {},
     "output_type": "execute_result"
    }
   ],
   "source": [
    "benchmark.head()"
   ]
  },
  {
   "cell_type": "code",
   "execution_count": 9,
   "metadata": {},
   "outputs": [
    {
     "data": {
      "text/html": [
       "<div>\n",
       "<style scoped>\n",
       "    .dataframe tbody tr th:only-of-type {\n",
       "        vertical-align: middle;\n",
       "    }\n",
       "\n",
       "    .dataframe tbody tr th {\n",
       "        vertical-align: top;\n",
       "    }\n",
       "\n",
       "    .dataframe thead th {\n",
       "        text-align: right;\n",
       "    }\n",
       "</style>\n",
       "<table border=\"1\" class=\"dataframe\">\n",
       "  <thead>\n",
       "    <tr style=\"text-align: right;\">\n",
       "      <th></th>\n",
       "      <th>Pesos</th>\n",
       "    </tr>\n",
       "  </thead>\n",
       "  <tbody>\n",
       "    <tr>\n",
       "      <th>AMERICAN EXPRESS CO</th>\n",
       "      <td>0.008171</td>\n",
       "    </tr>\n",
       "    <tr>\n",
       "      <th>VERIZON COMMUNICATIONS INC</th>\n",
       "      <td>0.048271</td>\n",
       "    </tr>\n",
       "    <tr>\n",
       "      <th>BOEING CO/THE</th>\n",
       "      <td>0.009887</td>\n",
       "    </tr>\n",
       "    <tr>\n",
       "      <th>CATERPILLAR INC</th>\n",
       "      <td>0.000883</td>\n",
       "    </tr>\n",
       "    <tr>\n",
       "      <th>JPMORGAN CHASE &amp; CO</th>\n",
       "      <td>0.000583</td>\n",
       "    </tr>\n",
       "  </tbody>\n",
       "</table>\n",
       "</div>"
      ],
      "text/plain": [
       "                               Pesos\n",
       "AMERICAN EXPRESS CO         0.008171\n",
       "VERIZON COMMUNICATIONS INC  0.048271\n",
       "BOEING CO/THE               0.009887\n",
       "CATERPILLAR INC             0.000883\n",
       "JPMORGAN CHASE & CO         0.000583"
      ]
     },
     "execution_count": 9,
     "metadata": {},
     "output_type": "execute_result"
    }
   ],
   "source": [
    "weights.index=equity.columns\n",
    "weights.head()"
   ]
  },
  {
   "cell_type": "code",
   "execution_count": 50,
   "metadata": {},
   "outputs": [
    {
     "name": "stdout",
     "output_type": "stream",
     "text": [
      "The information ratio is 0.0825221997819158.\n"
     ]
    }
   ],
   "source": [
    "rf_anual=0.03\n",
    "rf_sem=(1+rf_anual)**(1/52)-1\n",
    "objeto=risk_ratios(equity,benchmark,weights)\n",
    "sharpe,m2,beta,treynor,capm,alfa=objeto.ratios(rf_sem)"
   ]
  },
  {
   "cell_type": "code",
   "execution_count": 24,
   "metadata": {},
   "outputs": [
    {
     "data": {
      "text/plain": [
       "AMERICAN EXPRESS CO           0.061310\n",
       "VERIZON COMMUNICATIONS INC    0.056250\n",
       "BOEING CO/THE                 0.049811\n",
       "CATERPILLAR INC               0.065671\n",
       "JPMORGAN CHASE & CO           0.057429\n",
       "dtype: float64"
      ]
     },
     "execution_count": 24,
     "metadata": {},
     "output_type": "execute_result"
    }
   ],
   "source": [
    "# Sharpe ratio\n",
    "sharpe.head()"
   ]
  },
  {
   "cell_type": "code",
   "execution_count": 18,
   "metadata": {},
   "outputs": [
    {
     "data": {
      "text/plain": [
       "AMERICAN EXPRESS CO           0.001969\n",
       "VERIZON COMMUNICATIONS INC    0.001853\n",
       "BOEING CO/THE                 0.001706\n",
       "CATERPILLAR INC               0.002069\n",
       "JPMORGAN CHASE & CO           0.001880\n",
       "dtype: float64"
      ]
     },
     "execution_count": 18,
     "metadata": {},
     "output_type": "execute_result"
    }
   ],
   "source": [
    "# Modigliani - Miller\n",
    "m2.head()"
   ]
  },
  {
   "cell_type": "code",
   "execution_count": 19,
   "metadata": {},
   "outputs": [
    {
     "data": {
      "text/plain": [
       "AMERICAN EXPRESS CO           1.369157\n",
       "VERIZON COMMUNICATIONS INC    0.510947\n",
       "BOEING CO/THE                 1.858612\n",
       "CATERPILLAR INC               1.227398\n",
       "JPMORGAN CHASE & CO           1.267063\n",
       "dtype: float64"
      ]
     },
     "execution_count": 19,
     "metadata": {},
     "output_type": "execute_result"
    }
   ],
   "source": [
    "# Beta\n",
    "beta.head()"
   ]
  },
  {
   "cell_type": "code",
   "execution_count": 20,
   "metadata": {},
   "outputs": [
    {
     "data": {
      "text/plain": [
       "AMERICAN EXPRESS CO           0.001825\n",
       "VERIZON COMMUNICATIONS INC    0.002592\n",
       "BOEING CO/THE                 0.001563\n",
       "CATERPILLAR INC               0.002135\n",
       "JPMORGAN CHASE & CO           0.001704\n",
       "dtype: float64"
      ]
     },
     "execution_count": 20,
     "metadata": {},
     "output_type": "execute_result"
    }
   ],
   "source": [
    "# Treynor ratio\n",
    "treynor.head()"
   ]
  },
  {
   "cell_type": "code",
   "execution_count": 22,
   "metadata": {},
   "outputs": [
    {
     "data": {
      "text/plain": [
       "AMERICAN EXPRESS CO           0.002371\n",
       "VERIZON COMMUNICATIONS INC    0.001241\n",
       "BOEING CO/THE                 0.003015\n",
       "CATERPILLAR INC               0.002184\n",
       "JPMORGAN CHASE & CO           0.002237\n",
       "dtype: float64"
      ]
     },
     "execution_count": 22,
     "metadata": {},
     "output_type": "execute_result"
    }
   ],
   "source": [
    "# Capital Asset Pricing Model\n",
    "capm.head()"
   ]
  },
  {
   "cell_type": "code",
   "execution_count": 23,
   "metadata": {},
   "outputs": [
    {
     "data": {
      "text/plain": [
       "AMERICAN EXPRESS CO           0.000765\n",
       "VERIZON COMMUNICATIONS INC    0.001894\n",
       "BOEING CO/THE                 0.000120\n",
       "CATERPILLAR INC               0.000951\n",
       "JPMORGAN CHASE & CO           0.000899\n",
       "dtype: float64"
      ]
     },
     "execution_count": 23,
     "metadata": {},
     "output_type": "execute_result"
    }
   ],
   "source": [
    "# Jensen Alfa\n",
    "alfa.head()"
   ]
  },
  {
   "cell_type": "code",
   "execution_count": 32,
   "metadata": {},
   "outputs": [],
   "source": [
    "market_returns=np.array(benchmark.pct_change().dropna())\n",
    "market_returns=np.reshape(market_returns,newshape=(650))\n",
    "american_exp=np.array(equity[\"AMERICAN EXPRESS CO\"].pct_change().dropna())\n",
    "american_exp=np.reshape(american_exp,newshape=(650))\n",
    "beta_2=np.polyfit(market_returns,american_exp,deg=1)"
   ]
  },
  {
   "cell_type": "code",
   "execution_count": 34,
   "metadata": {},
   "outputs": [
    {
     "data": {
      "text/plain": [
       "array([1.36915652e+00, 4.86856018e-04])"
      ]
     },
     "execution_count": 34,
     "metadata": {},
     "output_type": "execute_result"
    }
   ],
   "source": [
    "beta_2"
   ]
  },
  {
   "cell_type": "code",
   "execution_count": 41,
   "metadata": {},
   "outputs": [
    {
     "data": {
      "text/plain": [
       "array([ 0.02545139, -0.00061433, -0.05586463, -0.01373232, -0.00700674])"
      ]
     },
     "execution_count": 41,
     "metadata": {},
     "output_type": "execute_result"
    }
   ],
   "source": [
    "predict_amer=(market_returns*beta_2[0])+beta_2[1]\n",
    "predict_amer[0:5]\n"
   ]
  },
  {
   "cell_type": "code",
   "execution_count": 45,
   "metadata": {},
   "outputs": [
    {
     "data": {
      "image/png": "[encoded data removed]",
      "text/plain": [
       "<Figure size 432x288 with 1 Axes>"
      ]
     },
     "metadata": {
      "needs_background": "light"
     },
     "output_type": "display_data"
    }
   ],
   "source": [
    "plt.scatter(market_returns,american_exp,c=\"green\",label=\"Real values\")\n",
    "plt.plot(market_returns,predict_amer,c=\"blue\",label=\"Trend line\")\n",
    "plt.legend()\n",
    "plt.show()"
   ]
  }
 ],
 "metadata": {
  "kernelspec": {
   "display_name": "Python 3.9.12 ('base')",
   "language": "python",
   "name": "python3"
  },
  "language_info": {
   "codemirror_mode": {
    "name": "ipython",
    "version": 3
   },
   "file_extension": ".py",
   "mimetype": "text/x-python",
   "name": "python",
   "nbconvert_exporter": "python",
   "pygments_lexer": "ipython3",
   "version": "3.9.12"
  },
  "orig_nbformat": 4,
  "vscode": {
   "interpreter": {
    "hash": "ad2bdc8ecc057115af97d19610ffacc2b4e99fae6737bb82f5d7fb13d2f2c186"
   }
  }
 },
 "nbformat": 4,
 "nbformat_minor": 2
}
